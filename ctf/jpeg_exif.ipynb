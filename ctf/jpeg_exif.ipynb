{
  "cells": [
    {
      "cell_type": "markdown",
      "metadata": {
        "id": "view-in-github",
        "colab_type": "text"
      },
      "source": [
        "<a href=\"https://colab.research.google.com/github/thruc/jupyter/blob/main/ctf/jpeg_exif.ipynb\" target=\"_parent\"><img src=\"https://colab.research.google.com/assets/colab-badge.svg\" alt=\"Open In Colab\"/></a>"
      ]
    },
    {
      "cell_type": "markdown",
      "source": [
        "# PEG画像のExif情報の解析"
      ],
      "metadata": {
        "id": "8g6kRvGPJjZP"
      }
    },
    {
      "cell_type": "code",
      "execution_count": 3,
      "metadata": {
        "vscode": {
          "languageId": "plaintext"
        },
        "id": "SD-m-eacIpm3",
        "colab": {
          "base_uri": "https://localhost:8080/"
        },
        "outputId": "59e973e1-be55-4c31-fe10-c392c961757f"
      },
      "outputs": [
        {
          "output_type": "stream",
          "name": "stdout",
          "text": [
            "Requirement already satisfied: Pillow in /usr/local/lib/python3.10/dist-packages (9.4.0)\n"
          ]
        }
      ],
      "source": [
        "!pip install Pillow"
      ]
    },
    {
      "cell_type": "code",
      "source": [
        "from PIL import Image\n",
        "from PIL.ExifTags import TAGS\n",
        "\n",
        "def get_exif_data(image_path):\n",
        "    try:\n",
        "        # 画像を開く\n",
        "        image = Image.open(image_path)\n",
        "\n",
        "        # Exif情報を取得\n",
        "        exif_data = image._getexif()\n",
        "\n",
        "        if exif_data is not None:\n",
        "            # Exif情報をデコード\n",
        "            decoded_exif = {TAGS[key]: exif_data[key] for key in exif_data.keys() if key in TAGS and isinstance(exif_data[key], (int, bytes, str))}\n",
        "            return decoded_exif\n",
        "        else:\n",
        "            print(\"No Exif data found.\")\n",
        "            return None\n",
        "\n",
        "    except Exception as e:\n",
        "        print(f\"Error: {e}\")\n",
        "        return None\n"
      ],
      "metadata": {
        "id": "q2bgY8lrJQ0J"
      },
      "execution_count": 4,
      "outputs": []
    },
    {
      "cell_type": "code",
      "source": [
        "# 画像ファイルのパスを指定\n",
        "image_path = \"/content/river.jpg\"\n",
        "\n",
        "# Exif情報を取得して表示\n",
        "exif_data = get_exif_data(image_path)\n",
        "if exif_data:\n",
        "    for key, value in exif_data.items():\n",
        "        print(f\"{key}: {value}\")"
      ],
      "metadata": {
        "colab": {
          "base_uri": "https://localhost:8080/"
        },
        "id": "mIgovIKcJUcK",
        "outputId": "9e9a0fdf-fb17-4016-aa54-89fe0d2ef224"
      },
      "execution_count": 5,
      "outputs": [
        {
          "output_type": "stream",
          "name": "stdout",
          "text": [
            "ResolutionUnit: 2\n",
            "ExifOffset: 208\n",
            "Make: Sony\n",
            "Model: SO-01G\n",
            "Software: 23.1.B.1.160_6_f1000010\n",
            "Orientation: 1\n",
            "DateTime: 2015:09:14 12:50:38\n",
            "ExifVersion: b'0220'\n",
            "ComponentsConfiguration: b'\\x01\\x02\\x03\\x00'\n",
            "DateTimeOriginal: 2015:09:14 12:50:38\n",
            "DateTimeDigitized: 2015:09:14 12:50:38\n",
            "FlashPixVersion: b'0100'\n",
            "MeteringMode: 5\n",
            "LightSource: 0\n",
            "Flash: 16\n",
            "ColorSpace: 1\n",
            "ExifImageWidth: 3840\n",
            "SceneCaptureType: 1\n",
            "SubjectDistanceRange: 0\n",
            "SubsecTime: 190234\n",
            "SubsecTimeOriginal: 190234\n",
            "SubsecTimeDigitized: 190234\n",
            "ExifImageHeight: 2160\n",
            "CustomRendered: 0\n",
            "ISOSpeedRatings: 50\n",
            "ExposureMode: 0\n",
            "WhiteBalance: 0\n"
          ]
        }
      ]
    }
  ],
  "metadata": {
    "language_info": {
      "name": "python"
    },
    "colab": {
      "provenance": [],
      "name": "jpeg_exif.ipynb",
      "include_colab_link": true
    },
    "kernelspec": {
      "name": "python3",
      "display_name": "Python 3"
    }
  },
  "nbformat": 4,
  "nbformat_minor": 0
}