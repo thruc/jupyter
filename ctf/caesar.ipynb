{
  "cells": [
    {
      "cell_type": "markdown",
      "metadata": {
        "id": "view-in-github",
        "colab_type": "text"
      },
      "source": [
        "<a href=\"https://colab.research.google.com/github/thruc/jupyter/blob/main/ctf/caesar.ipynb\" target=\"_parent\"><img src=\"https://colab.research.google.com/assets/colab-badge.svg\" alt=\"Open In Colab\"/></a>"
      ]
    },
    {
      "cell_type": "markdown",
      "metadata": {
        "id": "9uWA-NEzIpmy"
      },
      "source": [
        "<a href=\"https://colab.research.google.com/github/thruc/jupyter/blob/main/ctf/caesar.ipynb\" target=\"_parent\"><img src=\"https://colab.research.google.com/assets/colab-badge.svg\" alt=\"Open In Colab\"/></a>"
      ]
    },
    {
      "cell_type": "markdown",
      "source": [
        "# シーザー暗号を全てのシフト数（1から25まで）で試行"
      ],
      "metadata": {
        "id": "8g6kRvGPJjZP"
      }
    },
    {
      "cell_type": "code",
      "execution_count": 1,
      "metadata": {
        "vscode": {
          "languageId": "plaintext"
        },
        "id": "SD-m-eacIpm3"
      },
      "outputs": [],
      "source": [
        "def caesar_cipher_decrypt(ciphertext, shift):\n",
        "    decrypted_text = \"\"\n",
        "\n",
        "    for char in ciphertext:\n",
        "        if char.isalpha():\n",
        "            # アルファベットの場合のみ処理\n",
        "            ascii_offset = ord('a') if char.islower() else ord('A')\n",
        "            decrypted_char = chr((ord(char) - ascii_offset - shift) % 26 + ascii_offset)\n",
        "            decrypted_text += decrypted_char\n",
        "        else:\n",
        "            # アルファベットでない場合はそのまま追加\n",
        "            decrypted_text += char\n",
        "\n",
        "    return decrypted_text"
      ]
    },
    {
      "cell_type": "code",
      "source": [
        "def brute_force_decrypt(ciphertext):\n",
        "    print(\"Brute Force Decryption:\")\n",
        "    for shift in range(1, 26):\n",
        "        decrypted_text = caesar_cipher_decrypt(ciphertext, shift)\n",
        "        print(f\"Shift {shift}: {decrypted_text}\")"
      ],
      "metadata": {
        "id": "q2bgY8lrJQ0J"
      },
      "execution_count": 2,
      "outputs": []
    },
    {
      "cell_type": "code",
      "source": [
        "# 暗号文を指定\n",
        "ciphertext = \"Vrphwklv lv d whvw phvvdjh.\"\n",
        "\n",
        "# ブルートフォース攻撃を実行\n",
        "brute_force_decrypt(ciphertext)"
      ],
      "metadata": {
        "colab": {
          "base_uri": "https://localhost:8080/"
        },
        "id": "mIgovIKcJUcK",
        "outputId": "f8bd2d46-0374-4464-c5fc-15ed35e2c456"
      },
      "execution_count": 3,
      "outputs": [
        {
          "output_type": "stream",
          "name": "stdout",
          "text": [
            "Brute Force Decryption:\n",
            "Shift 1: Uqogvjku ku c vguv oguucig.\n",
            "Shift 2: Tpnfuijt jt b uftu nfttbhf.\n",
            "Shift 3: Somethis is a test message.\n",
            "Shift 4: Rnldsghr hr z sdrs ldrrzfd.\n",
            "Shift 5: Qmkcrfgq gq y rcqr kcqqyec.\n",
            "Shift 6: Pljbqefp fp x qbpq jbppxdb.\n",
            "Shift 7: Okiapdeo eo w paop iaoowca.\n",
            "Shift 8: Njhzocdn dn v ozno hznnvbz.\n",
            "Shift 9: Migynbcm cm u nymn gymmuay.\n",
            "Shift 10: Lhfxmabl bl t mxlm fxlltzx.\n",
            "Shift 11: Kgewlzak ak s lwkl ewkksyw.\n",
            "Shift 12: Jfdvkyzj zj r kvjk dvjjrxv.\n",
            "Shift 13: Iecujxyi yi q juij cuiiqwu.\n",
            "Shift 14: Hdbtiwxh xh p ithi bthhpvt.\n",
            "Shift 15: Gcashvwg wg o hsgh asggous.\n",
            "Shift 16: Fbzrguvf vf n grfg zrffntr.\n",
            "Shift 17: Eayqftue ue m fqef yqeemsq.\n",
            "Shift 18: Dzxpestd td l epde xpddlrp.\n",
            "Shift 19: Cywodrsc sc k docd wocckqo.\n",
            "Shift 20: Bxvncqrb rb j cnbc vnbbjpn.\n",
            "Shift 21: Awumbpqa qa i bmab umaaiom.\n",
            "Shift 22: Zvtlaopz pz h alza tlzzhnl.\n",
            "Shift 23: Yuskznoy oy g zkyz skyygmk.\n",
            "Shift 24: Xtrjymnx nx f yjxy rjxxflj.\n",
            "Shift 25: Wsqixlmw mw e xiwx qiwweki.\n"
          ]
        }
      ]
    }
  ],
  "metadata": {
    "language_info": {
      "name": "python"
    },
    "colab": {
      "provenance": [],
      "include_colab_link": true
    },
    "kernelspec": {
      "name": "python3",
      "display_name": "Python 3"
    }
  },
  "nbformat": 4,
  "nbformat_minor": 0
}