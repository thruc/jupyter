{
  "cells": [
    {
      "cell_type": "markdown",
      "metadata": {
        "id": "view-in-github",
        "colab_type": "text"
      },
      "source": [
        "<a href=\"https://colab.research.google.com/github/thruc/jupyter/blob/main/ctf/pcap.ipynb\" target=\"_parent\"><img src=\"https://colab.research.google.com/assets/colab-badge.svg\" alt=\"Open In Colab\"/></a>"
      ]
    },
    {
      "cell_type": "markdown",
      "source": [
        "# PCAPファイルを解析"
      ],
      "metadata": {
        "id": "8g6kRvGPJjZP"
      }
    },
    {
      "cell_type": "code",
      "execution_count": 7,
      "metadata": {
        "vscode": {
          "languageId": "plaintext"
        },
        "id": "SD-m-eacIpm3",
        "colab": {
          "base_uri": "https://localhost:8080/"
        },
        "outputId": "6962d1f7-07f4-4f76-e48b-d5ac5b90a127"
      },
      "outputs": [
        {
          "output_type": "stream",
          "name": "stdout",
          "text": [
            "Collecting scapy\n",
            "  Downloading scapy-2.5.0.tar.gz (1.3 MB)\n",
            "\u001b[2K     \u001b[90m━━━━━━━━━━━━━━━━━━━━━━━━━━━━━━━━━━━━━━━━\u001b[0m \u001b[32m1.3/1.3 MB\u001b[0m \u001b[31m7.0 MB/s\u001b[0m eta \u001b[36m0:00:00\u001b[0m\n",
            "\u001b[?25h  Preparing metadata (setup.py) ... \u001b[?25l\u001b[?25hdone\n",
            "Building wheels for collected packages: scapy\n",
            "  Building wheel for scapy (setup.py) ... \u001b[?25l\u001b[?25hdone\n",
            "  Created wheel for scapy: filename=scapy-2.5.0-py2.py3-none-any.whl size=1444328 sha256=40c5e1c2df18263370a7f7888c4bd0de16402fac2fdf652046e660029ad8a047\n",
            "  Stored in directory: /root/.cache/pip/wheels/82/b7/03/8344d8cf6695624746311bc0d389e9d05535ca83c35f90241d\n",
            "Successfully built scapy\n",
            "Installing collected packages: scapy\n",
            "Successfully installed scapy-2.5.0\n"
          ]
        }
      ],
      "source": [
        "!pip install scapy"
      ]
    },
    {
      "cell_type": "code",
      "source": [
        "from scapy.all import rdpcap\n",
        "\n",
        "# PCAPファイルの読み込み\n",
        "pcap_file_path = \"/content/network10.pcap\"\n",
        "packets = rdpcap(pcap_file_path)\n",
        "\n",
        "# パケットの解析\n",
        "for packet in packets:\n",
        "    # パケットの情報を表示\n",
        "    print(packet.show())\n",
        "\n",
        "\n",
        "\n"
      ],
      "metadata": {
        "id": "q2bgY8lrJQ0J",
        "colab": {
          "base_uri": "https://localhost:8080/"
        },
        "outputId": "ea241b8b-f690-48d6-a63c-23a90a17e172"
      },
      "execution_count": 29,
      "outputs": [
        {
          "output_type": "stream",
          "name": "stdout",
          "text": [
            "Ether / 169.254.144.80 > 169.254.144.81 0 / Raw / Padding\n",
            "###[ Ethernet ]### \n",
            "  dst       = 70:58:12:24:49:0d\n",
            "  src       = 58:55:ca:24:2e:08\n",
            "  type      = IPv4\n",
            "###[ IP ]### \n",
            "     version   = 4\n",
            "     ihl       = 5\n",
            "     tos       = 0x0\n",
            "     len       = 40\n",
            "     id        = 1\n",
            "     flags     = \n",
            "     frag      = 0\n",
            "     ttl       = 64\n",
            "     proto     = 0\n",
            "     chksum    = 0x637\n",
            "     src       = 169.254.144.80\n",
            "     dst       = 169.254.144.81\n",
            "     \\options   \\\n",
            "###[ Raw ]### \n",
            "        load      = 'cpaw{gochi_usa_kami}'\n",
            "###[ Padding ]### \n",
            "           load      = '\\x00\\x00\\x00\\x00\\x00\\x00'\n",
            "\n",
            "None\n",
            "Ether / IP / ICMP 169.254.144.81 > 169.254.144.80 dest-unreach protocol-unreachable / IPerror / Raw\n",
            "###[ Ethernet ]### \n",
            "  dst       = 58:55:ca:24:2e:08\n",
            "  src       = 70:58:12:24:49:0d\n",
            "  type      = IPv4\n",
            "###[ IP ]### \n",
            "     version   = 4\n",
            "     ihl       = 5\n",
            "     tos       = 0xc0\n",
            "     len       = 68\n",
            "     id        = 29462\n",
            "     flags     = \n",
            "     frag      = 0\n",
            "     ttl       = 64\n",
            "     proto     = 1\n",
            "     chksum    = 0x9244\n",
            "     src       = 169.254.144.81\n",
            "     dst       = 169.254.144.80\n",
            "     \\options   \\\n",
            "###[ ICMP ]### \n",
            "        type      = dest-unreach\n",
            "        code      = protocol-unreachable\n",
            "        chksum    = 0xe7b4\n",
            "        reserved  = 0\n",
            "        length    = 0\n",
            "        nexthopmtu= 0\n",
            "        unused    = ''\n",
            "###[ IP in ICMP ]### \n",
            "           version   = 4\n",
            "           ihl       = 5\n",
            "           tos       = 0x0\n",
            "           len       = 40\n",
            "           id        = 1\n",
            "           flags     = \n",
            "           frag      = 0\n",
            "           ttl       = 64\n",
            "           proto     = 0\n",
            "           chksum    = 0x637\n",
            "           src       = 169.254.144.80\n",
            "           dst       = 169.254.144.81\n",
            "           \\options   \\\n",
            "###[ Raw ]### \n",
            "              load      = 'cpaw{gochi_usa_kami}'\n",
            "\n",
            "None\n"
          ]
        }
      ]
    },
    {
      "cell_type": "code",
      "source": [
        "type(packets) # https://scapy.readthedocs.io/en/latest/api/scapy.plist.html"
      ],
      "metadata": {
        "colab": {
          "base_uri": "https://localhost:8080/"
        },
        "id": "D0AjKHD9hhvS",
        "outputId": "f9d8d1a1-b294-4bf1-81d9-419250e842dd"
      },
      "execution_count": 24,
      "outputs": [
        {
          "output_type": "execute_result",
          "data": {
            "text/plain": [
              "scapy.plist.PacketList"
            ]
          },
          "metadata": {},
          "execution_count": 24
        }
      ]
    },
    {
      "cell_type": "code",
      "source": [
        "type(packets[0]) # https://scapy.readthedocs.io/en/latest/api/scapy.layers.l2.html"
      ],
      "metadata": {
        "colab": {
          "base_uri": "https://localhost:8080/"
        },
        "id": "hgd7DckkjUVf",
        "outputId": "1e91bd66-d941-4ffb-f8cb-8408d26fc909"
      },
      "execution_count": 27,
      "outputs": [
        {
          "output_type": "execute_result",
          "data": {
            "text/plain": [
              "scapy.layers.l2.Ether"
            ]
          },
          "metadata": {},
          "execution_count": 27
        }
      ]
    }
  ],
  "metadata": {
    "language_info": {
      "name": "python"
    },
    "colab": {
      "provenance": [],
      "name": "pcap.ipynb",
      "include_colab_link": true
    },
    "kernelspec": {
      "name": "python3",
      "display_name": "Python 3"
    }
  },
  "nbformat": 4,
  "nbformat_minor": 0
}