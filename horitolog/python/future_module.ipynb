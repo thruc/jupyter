{
  "cells": [
    {
      "cell_type": "markdown",
      "metadata": {
        "id": "kj29-XMeQGSq"
      },
      "source": [
        "<a href=\"https://colab.research.google.com/github/thruc/jupyter/blob/main/horitolog/python/future_module.ipynb\" target=\"_parent\"><img src=\"https://colab.research.google.com/assets/colab-badge.svg\" alt=\"Open In Colab\"/></a>"
      ]
    },
    {
      "cell_type": "code",
      "source": [
        "print(\"test\")"
      ],
      "metadata": {
        "id": "QLDZ0BhsQHRD",
        "outputId": "a7d84dd6-99dc-40ce-eaf3-f7b48b0d221f",
        "colab": {
          "base_uri": "https://localhost:8080/"
        }
      },
      "execution_count": 1,
      "outputs": [
        {
          "output_type": "stream",
          "name": "stdout",
          "text": [
            "test\n"
          ]
        }
      ]
    }
  ],
  "metadata": {
    "language_info": {
      "name": "python"
    },
    "colab": {
      "provenance": []
    },
    "kernelspec": {
      "name": "python3",
      "display_name": "Python 3"
    }
  },
  "nbformat": 4,
  "nbformat_minor": 0
}